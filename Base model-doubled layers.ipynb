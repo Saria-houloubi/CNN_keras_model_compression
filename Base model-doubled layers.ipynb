{
 "cells": [
  {
   "cell_type": "code",
   "execution_count": 1,
   "metadata": {},
   "outputs": [
    {
     "name": "stderr",
     "output_type": "stream",
     "text": [
      "Using TensorFlow backend.\n"
     ]
    }
   ],
   "source": [
    "import keras\n",
    "from keras.datasets import mnist\n",
    "from keras.models import Sequential\n",
    "from keras.layers import Dense, Dropout, Flatten, Conv2D, MaxPooling2D, Activation\n",
    "from keras.utils import to_categorical\n",
    "from keras.optimizers import Adadelta\n",
    "from keras import backend as k\n",
    "#Set to mini batch\n",
    "batch_size = 128\n",
    "#the number of classes we want to classify 0 --- 9\n",
    "num_classes =10\n",
    "#the size of the image in the mnist dataset\n",
    "img_rows,img_columns = 28 ,28\n",
    "#load the data to a trainning and testing\n",
    "(x_train,y_train),(x_test,y_test) = mnist.load_data()\n",
    "#changing the shapes to fit as we are using tensorflow as a backend\n",
    "x_train = x_train.reshape(x_train.shape[0],img_rows,img_columns,1)\n",
    "x_test = x_test.reshape(x_test.shape[0],img_rows,img_columns,1)\n",
    "input_shape = (img_rows,img_columns,1)\n",
    "\n",
    "#change the type for calcuations\n",
    "x_train = x_train.astype('float32')\n",
    "x_test = x_test.astype('float32')\n",
    "\n",
    "#normilize the values\n",
    "x_train /=255\n",
    "x_test /=255\n",
    "\n",
    "#convert the class vector to a binary matrix \n",
    "#the values a represnted as 0 0 0 0 0 0 0 0 0 0 \n",
    "# and there will be one on the correct class\n",
    "y_train = to_categorical(y_train,num_classes)\n",
    "y_test = to_categorical(y_test,num_classes)"
   ]
  },
  {
   "cell_type": "code",
   "execution_count": 8,
   "metadata": {},
   "outputs": [],
   "source": [
    "#create the model\n",
    "model =  Sequential()\n",
    "#add a conv2d layer with 32 fiters which will give us 26 26 32 the 32 is the number of channels \n",
    "model.add(Conv2D(32,(3,3),activation = 'relu',input_shape= input_shape))\n",
    "# will give a 24 24 64 channels the image is decrising becuase we are not padding\n",
    "model.add(Conv2D(64,(3,3),activation = 'relu'))\n",
    "#to reduce the size of the image and just keep focusing on the most important features\n",
    "model.add(MaxPooling2D(pool_size = (2,2)))\n",
    "\n",
    "#add a conv2d layer with 32 fiters which will give us 26 26 32 the 32 is the number of channels \n",
    "model.add(Conv2D(32,(3,3),activation = 'relu',input_shape= input_shape))\n",
    "# will give a 24 24 64 channels the image is decrising becuase we are not padding\n",
    "model.add(Conv2D(64,(3,3),activation = 'relu'))\n",
    "#to reduce the size of the image and just keep focusing on the most important features\n",
    "model.add(MaxPooling2D(pool_size = (2,2)))\n",
    "\n",
    "#now we need to flattern the image for use in dense layers\n",
    "model.add(Flatten())\n",
    "#the number of nurons is based on the project the this model is from\n",
    "model.add(Dense(128,activation='relu'))\n",
    "#add a drop out layer so we do not hit overfitting\n",
    "#it will disable hlaf of the nurons in on every input\n",
    "model.add(Dropout(0.5))\n",
    "#the last dense layer for the class classifying\n",
    "model.add(Dense(num_classes))\n",
    "#add the softmax activation to get the values between 0 -- 1\n",
    "model.add(Activation('softmax'))\n",
    "#setup the model for training\n",
    "model.compile(loss = 'categorical_crossentropy',\n",
    "              optimizer = Adadelta(),\n",
    "              #We can specify more metrics that we want to monitor\n",
    "              metrics=['accuracy'])\n",
    "\n"
   ]
  },
  {
   "cell_type": "code",
   "execution_count": 9,
   "metadata": {},
   "outputs": [
    {
     "name": "stdout",
     "output_type": "stream",
     "text": [
      "_________________________________________________________________\n",
      "Layer (type)                 Output Shape              Param #   \n",
      "=================================================================\n",
      "conv2d_13 (Conv2D)           (None, 26, 26, 32)        320       \n",
      "_________________________________________________________________\n",
      "conv2d_14 (Conv2D)           (None, 24, 24, 64)        18496     \n",
      "_________________________________________________________________\n",
      "max_pooling2d_7 (MaxPooling2 (None, 12, 12, 64)        0         \n",
      "_________________________________________________________________\n",
      "conv2d_15 (Conv2D)           (None, 10, 10, 32)        18464     \n",
      "_________________________________________________________________\n",
      "conv2d_16 (Conv2D)           (None, 8, 8, 64)          18496     \n",
      "_________________________________________________________________\n",
      "max_pooling2d_8 (MaxPooling2 (None, 4, 4, 64)          0         \n",
      "_________________________________________________________________\n",
      "flatten_5 (Flatten)          (None, 1024)              0         \n",
      "_________________________________________________________________\n",
      "dense_9 (Dense)              (None, 128)               131200    \n",
      "_________________________________________________________________\n",
      "dropout_5 (Dropout)          (None, 128)               0         \n",
      "_________________________________________________________________\n",
      "dense_10 (Dense)             (None, 10)                1290      \n",
      "_________________________________________________________________\n",
      "activation_5 (Activation)    (None, 10)                0         \n",
      "=================================================================\n",
      "Total params: 188,266\n",
      "Trainable params: 188,266\n",
      "Non-trainable params: 0\n",
      "_________________________________________________________________\n"
     ]
    }
   ],
   "source": [
    "model.summary()"
   ]
  },
  {
   "cell_type": "code",
   "execution_count": 10,
   "metadata": {},
   "outputs": [
    {
     "name": "stdout",
     "output_type": "stream",
     "text": [
      "WARNING:tensorflow:From /home/saria-houloubi/anaconda3/lib/python3.7/site-packages/tensorflow/python/ops/math_ops.py:3066: to_int32 (from tensorflow.python.ops.math_ops) is deprecated and will be removed in a future version.\n",
      "Instructions for updating:\n",
      "Use tf.cast instead.\n",
      "Train on 60000 samples, validate on 10000 samples\n",
      "Epoch 1/15\n",
      "60000/60000 [==============================] - 150s 2ms/step - loss: 0.2895 - acc: 0.9070 - val_loss: 0.0565 - val_acc: 0.9818\n",
      "Epoch 2/15\n",
      "60000/60000 [==============================] - 150s 2ms/step - loss: 0.0814 - acc: 0.9759 - val_loss: 0.0340 - val_acc: 0.9891\n",
      "Epoch 3/15\n",
      "60000/60000 [==============================] - 150s 2ms/step - loss: 0.0576 - acc: 0.9827 - val_loss: 0.0325 - val_acc: 0.9886\n",
      "Epoch 4/15\n",
      "60000/60000 [==============================] - 149s 2ms/step - loss: 0.0468 - acc: 0.9860 - val_loss: 0.0269 - val_acc: 0.9909\n",
      "Epoch 5/15\n",
      "60000/60000 [==============================] - 151s 3ms/step - loss: 0.0377 - acc: 0.9891 - val_loss: 0.0229 - val_acc: 0.9924\n",
      "Epoch 6/15\n",
      "60000/60000 [==============================] - 150s 2ms/step - loss: 0.0323 - acc: 0.9902 - val_loss: 0.0286 - val_acc: 0.9912\n",
      "Epoch 7/15\n",
      "60000/60000 [==============================] - 148s 2ms/step - loss: 0.0280 - acc: 0.9921 - val_loss: 0.0193 - val_acc: 0.9942\n",
      "Epoch 8/15\n",
      "60000/60000 [==============================] - 148s 2ms/step - loss: 0.0242 - acc: 0.9926 - val_loss: 0.0277 - val_acc: 0.9927\n",
      "Epoch 9/15\n",
      "60000/60000 [==============================] - 148s 2ms/step - loss: 0.0221 - acc: 0.9934 - val_loss: 0.0193 - val_acc: 0.9944\n",
      "Epoch 10/15\n",
      "60000/60000 [==============================] - 149s 2ms/step - loss: 0.0203 - acc: 0.9940 - val_loss: 0.0219 - val_acc: 0.9932\n",
      "Epoch 11/15\n",
      "60000/60000 [==============================] - 148s 2ms/step - loss: 0.0164 - acc: 0.9947 - val_loss: 0.0169 - val_acc: 0.9950\n",
      "Epoch 12/15\n",
      "60000/60000 [==============================] - 149s 2ms/step - loss: 0.0164 - acc: 0.9948 - val_loss: 0.0207 - val_acc: 0.9930\n",
      "Epoch 13/15\n",
      "60000/60000 [==============================] - 148s 2ms/step - loss: 0.0143 - acc: 0.9955 - val_loss: 0.0283 - val_acc: 0.9929\n",
      "Epoch 14/15\n",
      "60000/60000 [==============================] - 150s 2ms/step - loss: 0.0134 - acc: 0.9957 - val_loss: 0.0192 - val_acc: 0.9940\n",
      "Epoch 15/15\n",
      "60000/60000 [==============================] - 148s 2ms/step - loss: 0.0115 - acc: 0.9964 - val_loss: 0.0220 - val_acc: 0.9942\n"
     ]
    },
    {
     "data": {
      "text/plain": [
       "<keras.callbacks.History at 0x7f0cfa172278>"
      ]
     },
     "execution_count": 10,
     "metadata": {},
     "output_type": "execute_result"
    }
   ],
   "source": [
    "#train the model\n",
    "model.fit(x = x_train,y = y_train,\n",
    "          batch_size = batch_size,\n",
    "          epochs = 15,\n",
    "        #this will show is a progress bar put it to 0 so it can remain silent\n",
    "          verbose =1,\n",
    "          validation_data = (x_test,y_test))"
   ]
  },
  {
   "cell_type": "code",
   "execution_count": null,
   "metadata": {},
   "outputs": [],
   "source": [
    "#evaluate the model\n",
    "#for more information run model.metrices_names == > ['loss' , 'acc']\n",
    "scores = model.evaluate(x = x_test,y=y_test,batch_size = 32,verbose = 1)\n",
    "\n",
    "print(\"The scores : \"+ scores)"
   ]
  }
 ],
 "metadata": {
  "kernelspec": {
   "display_name": "Python 3",
   "language": "python",
   "name": "python3"
  },
  "language_info": {
   "codemirror_mode": {
    "name": "ipython",
    "version": 3
   },
   "file_extension": ".py",
   "mimetype": "text/x-python",
   "name": "python",
   "nbconvert_exporter": "python",
   "pygments_lexer": "ipython3",
   "version": "3.7.1"
  }
 },
 "nbformat": 4,
 "nbformat_minor": 2
}
