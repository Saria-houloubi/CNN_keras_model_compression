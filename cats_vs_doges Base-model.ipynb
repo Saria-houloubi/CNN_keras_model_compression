{
 "cells": [
  {
   "cell_type": "code",
   "execution_count": 3,
   "metadata": {},
   "outputs": [
    {
     "name": "stderr",
     "output_type": "stream",
     "text": [
      "Using TensorFlow backend.\n"
     ]
    }
   ],
   "source": [
    "import matplotlib.pyplot as plt\n",
    "import numpy as np\n",
    "import os\n",
    "import cv2\n",
    "import keras\n",
    "import matplotlib.pyplot as plt\n",
    "import numpy as np\n",
    "from keras.models import Sequential\n",
    "from keras.datasets import mnist\n",
    "from keras.models import Sequential\n",
    "from keras.layers import Conv2D, Dropout,BatchNormalization,Activation,ZeroPadding2D,AveragePooling2D,MaxPooling2D,Add,AveragePooling2D,Flatten,Dense,Input\n",
    "from keras.utils import to_categorical\n",
    "from keras.initializers import glorot_uniform,glorot_normal\n",
    "from keras.optimizers import Adadelta\n",
    "from keras import backend as k\n",
    "from keras.engine.input_layer import Input\n",
    "from random import shuffle\n",
    "from keras.models import Model, load_model\n",
    "\n",
    "#Set to mini batch\n",
    "batch_size = 128\n",
    "#the number of classes we want to classify 0 --- 9\n",
    "num_classes =2\n",
    "\n",
    "DATA_DIR = 'PetImages'\n",
    "\n",
    "IMAGE_ROWS, IMAGE_COLUMNS = 100,100\n",
    "\n",
    "input_shape = (IMAGE_ROWS,IMAGE_COLUMNS,1)\n"
   ]
  },
  {
   "cell_type": "code",
   "execution_count": 4,
   "metadata": {},
   "outputs": [],
   "source": [
    "#function to read the data\n",
    "def create_train_data(load_count):\n",
    "    num_of_test = 1000\n",
    "    training_data = []\n",
    "    # to get the labels right\n",
    "    for cl_type in ['Dog','Cat']:\n",
    "        label = [0,0]\n",
    "        if cl_type == 'Dog':\n",
    "            label = [1 ,0]\n",
    "        else :\n",
    "            label = [0 ,1]\n",
    "        image_path = os.path.join(DATA_DIR,cl_type)\n",
    "        #the number of items from each class\n",
    "        num_of_test= load_count\n",
    "        for img in os.listdir(image_path):\n",
    "            if num_of_test  == 0 :\n",
    "                break\n",
    "            path = os.path.join(image_path,img)\n",
    "            image =cv2.imread(path,cv2.IMREAD_GRAYSCALE)\n",
    "            if not image is None:\n",
    "                image_resize = cv2.resize(image,(IMAGE_ROWS, IMAGE_COLUMNS))\n",
    "                training_data.append([np.array(image_resize).astype('float32')/255,np.array(label)])\n",
    "                num_of_test = num_of_test - 1\n",
    "    shuffle(training_data)\n",
    "    \n",
    "    return training_data\n",
    "        \n",
    "        "
   ]
  },
  {
   "cell_type": "code",
   "execution_count": 5,
   "metadata": {},
   "outputs": [],
   "source": [
    "data = create_train_data(25000)"
   ]
  },
  {
   "cell_type": "code",
   "execution_count": 6,
   "metadata": {},
   "outputs": [],
   "source": [
    "train = data[:-5000]\n",
    "test = data[-5000:]"
   ]
  },
  {
   "cell_type": "code",
   "execution_count": 10,
   "metadata": {},
   "outputs": [
    {
     "data": {
      "text/plain": [
       "<matplotlib.image.AxesImage at 0x27efff65da0>"
      ]
     },
     "execution_count": 10,
     "metadata": {},
     "output_type": "execute_result"
    },
    {
     "data": {
      "image/png": "[encoded data removed]",
      "text/plain": [
       "<Figure size 432x288 with 1 Axes>"
      ]
     },
     "metadata": {
      "needs_background": "light"
     },
     "output_type": "display_data"
    }
   ],
   "source": [
    "plt.imshow(train[25][0],cmap='Greys_r')"
   ]
  },
  {
   "cell_type": "code",
   "execution_count": 11,
   "metadata": {},
   "outputs": [
    {
     "name": "stdout",
     "output_type": "stream",
     "text": [
      "The shape of the train data (19946, 100, 100, 1)\n",
      "The shape of the test data (5000, 100, 100, 1)\n"
     ]
    }
   ],
   "source": [
    "x_train = np.array([i[0] for i in train]).reshape(-1,IMAGE_ROWS,IMAGE_COLUMNS,1)\n",
    "y_train = np.array([i[1] for i in train])\n",
    "\n",
    "x_test = np.array([i[0] for i in test]).reshape(-1,IMAGE_ROWS,IMAGE_COLUMNS,1)\n",
    "y_test = np.array([i[1] for i in test])\n",
    "\n",
    "print(\"The shape of the train data \" + str(x_train.shape))\n",
    "print(\"The shape of the test data \" + str(x_test.shape))"
   ]
  },
  {
   "cell_type": "code",
   "execution_count": 13,
   "metadata": {},
   "outputs": [],
   "source": [
    "#create the model\n",
    "model =  Sequential()\n",
    "#add a conv2d layer with 32 fiters which will give us 26 26 32 the 32 is the number of channels \n",
    "model.add(Conv2D(32,(3,3),activation = 'relu',input_shape= input_shape))\n",
    "# will give a 24 24 64 channels the image is decrising becuase we are not padding\n",
    "model.add(Conv2D(64,(3,3),activation = 'relu'))\n",
    "#to reduce the size of the image and just keep focusing on the most important features\n",
    "model.add(MaxPooling2D(pool_size = (2,2)))\n",
    "\n",
    "#now we need to flattern the image for use in dense layers\n",
    "model.add(Flatten())\n",
    "#the number of nurons is based on the project the this model is from\n",
    "model.add(Dense(128,activation='relu'))\n",
    "#add a drop out layer so we do not hit overfitting\n",
    "#it will disable hlaf of the nurons in on every input\n",
    "model.add(Dropout(0.5))\n",
    "#the last dense layer for the class classifying\n",
    "model.add(Dense(num_classes))\n",
    "#add the softmax activation to get the values between 0 -- 1\n",
    "model.add(Activation('softmax'))\n",
    "#setup the model for training\n",
    "model.compile(loss = 'categorical_crossentropy',\n",
    "              optimizer = Adadelta(),\n",
    "              #We can specify more metrics that we want to monitor\n",
    "              metrics=['accuracy'])\n",
    "\n"
   ]
  },
  {
   "cell_type": "code",
   "execution_count": 14,
   "metadata": {},
   "outputs": [
    {
     "name": "stdout",
     "output_type": "stream",
     "text": [
      "_________________________________________________________________\n",
      "Layer (type)                 Output Shape              Param #   \n",
      "=================================================================\n",
      "conv2d_3 (Conv2D)            (None, 98, 98, 32)        320       \n",
      "_________________________________________________________________\n",
      "conv2d_4 (Conv2D)            (None, 96, 96, 64)        18496     \n",
      "_________________________________________________________________\n",
      "max_pooling2d_2 (MaxPooling2 (None, 48, 48, 64)        0         \n",
      "_________________________________________________________________\n",
      "flatten_2 (Flatten)          (None, 147456)            0         \n",
      "_________________________________________________________________\n",
      "dense_3 (Dense)              (None, 128)               18874496  \n",
      "_________________________________________________________________\n",
      "dropout_2 (Dropout)          (None, 128)               0         \n",
      "_________________________________________________________________\n",
      "dense_4 (Dense)              (None, 2)                 258       \n",
      "_________________________________________________________________\n",
      "activation_2 (Activation)    (None, 2)                 0         \n",
      "=================================================================\n",
      "Total params: 18,893,570\n",
      "Trainable params: 18,893,570\n",
      "Non-trainable params: 0\n",
      "_________________________________________________________________\n"
     ]
    }
   ],
   "source": [
    "model.summary()"
   ]
  },
  {
   "cell_type": "code",
   "execution_count": 16,
   "metadata": {
    "scrolled": true
   },
   "outputs": [
    {
     "name": "stdout",
     "output_type": "stream",
     "text": [
      "Train on 19946 samples, validate on 5000 samples\n",
      "Epoch 1/15\n",
      "19946/19946 [==============================] - 252s 13ms/step - loss: 0.6478 - acc: 0.6271 - val_loss: 0.6085 - val_acc: 0.6994\n",
      "Epoch 2/15\n",
      "19946/19946 [==============================] - 242s 12ms/step - loss: 0.5890 - acc: 0.6975 - val_loss: 0.5958 - val_acc: 0.6744\n",
      "Epoch 3/15\n",
      "19946/19946 [==============================] - 241s 12ms/step - loss: 0.5294 - acc: 0.7411 - val_loss: 0.5226 - val_acc: 0.7562\n",
      "Epoch 4/15\n",
      "19946/19946 [==============================] - 241s 12ms/step - loss: 0.4815 - acc: 0.7708 - val_loss: 0.5290 - val_acc: 0.7378\n",
      "Epoch 5/15\n",
      "19946/19946 [==============================] - 241s 12ms/step - loss: 0.4416 - acc: 0.7948 - val_loss: 0.4776 - val_acc: 0.7770\n",
      "Epoch 6/15\n",
      "19946/19946 [==============================] - 241s 12ms/step - loss: 0.3957 - acc: 0.8194 - val_loss: 0.4738 - val_acc: 0.7790\n",
      "Epoch 7/15\n",
      "19946/19946 [==============================] - 241s 12ms/step - loss: 0.3543 - acc: 0.8438 - val_loss: 0.4912 - val_acc: 0.7830\n",
      "Epoch 8/15\n",
      "19946/19946 [==============================] - 240s 12ms/step - loss: 0.3010 - acc: 0.8711 - val_loss: 0.5674 - val_acc: 0.7606\n",
      "Epoch 9/15\n",
      "19946/19946 [==============================] - 246s 12ms/step - loss: 0.2462 - acc: 0.8972 - val_loss: 0.5457 - val_acc: 0.7664\n",
      "Epoch 10/15\n",
      "19946/19946 [==============================] - 262s 13ms/step - loss: 0.2018 - acc: 0.9193 - val_loss: 0.6579 - val_acc: 0.7604\n",
      "Epoch 11/15\n",
      "19946/19946 [==============================] - 255s 13ms/step - loss: 0.1549 - acc: 0.9399 - val_loss: 0.6614 - val_acc: 0.7748\n",
      "Epoch 12/15\n",
      "19946/19946 [==============================] - 262s 13ms/step - loss: 0.1201 - acc: 0.9556 - val_loss: 0.6952 - val_acc: 0.7764\n",
      "Epoch 13/15\n",
      "19946/19946 [==============================] - 261s 13ms/step - loss: 0.0934 - acc: 0.9675 - val_loss: 0.7314 - val_acc: 0.7768\n",
      "Epoch 14/15\n",
      "19946/19946 [==============================] - 261s 13ms/step - loss: 0.0732 - acc: 0.9754 - val_loss: 0.8637 - val_acc: 0.7644\n",
      "Epoch 15/15\n",
      "19946/19946 [==============================] - 246s 12ms/step - loss: 0.0600 - acc: 0.9813 - val_loss: 0.9232 - val_acc: 0.7670\n"
     ]
    },
    {
     "data": {
      "text/plain": [
       "<keras.callbacks.History at 0x27ec465e438>"
      ]
     },
     "execution_count": 16,
     "metadata": {},
     "output_type": "execute_result"
    }
   ],
   "source": [
    "#train the model\n",
    "model.fit(x = x_train,y = y_train,\n",
    "          batch_size = batch_size,\n",
    "          epochs = 15,\n",
    "        #this will show is a progress bar put it to 0 so it can remain silent\n",
    "          verbose =1,\n",
    "          validation_data = (x_test,y_test))"
   ]
  },
  {
   "cell_type": "code",
   "execution_count": 17,
   "metadata": {},
   "outputs": [
    {
     "name": "stdout",
     "output_type": "stream",
     "text": [
      "5000/5000 [==============================] - 27s 5ms/step\n"
     ]
    }
   ],
   "source": [
    "#evaluate the model\n",
    "#for more information run model.metrices_names == > ['loss' , 'acc']\n",
    "scores = model.evaluate(x = x_test,y=y_test,batch_size = 32,verbose = 1)\n"
   ]
  },
  {
   "cell_type": "code",
   "execution_count": 18,
   "metadata": {},
   "outputs": [
    {
     "name": "stdout",
     "output_type": "stream",
     "text": [
      "The scores :\n"
     ]
    },
    {
     "data": {
      "text/plain": [
       "[0.9231855292797089, 0.767]"
      ]
     },
     "execution_count": 18,
     "metadata": {},
     "output_type": "execute_result"
    }
   ],
   "source": [
    "\n",
    "print(\"The scores :\")\n",
    "scores"
   ]
  },
  {
   "cell_type": "code",
   "execution_count": null,
   "metadata": {},
   "outputs": [],
   "source": []
  }
 ],
 "metadata": {
  "kernelspec": {
   "display_name": "Python 3",
   "language": "python",
   "name": "python3"
  },
  "language_info": {
   "codemirror_mode": {
    "name": "ipython",
    "version": 3
   },
   "file_extension": ".py",
   "mimetype": "text/x-python",
   "name": "python",
   "nbconvert_exporter": "python",
   "pygments_lexer": "ipython3",
   "version": "3.7.3"
  }
 },
 "nbformat": 4,
 "nbformat_minor": 2
}
