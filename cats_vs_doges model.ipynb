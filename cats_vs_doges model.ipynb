{
 "cells": [
  {
   "cell_type": "code",
   "execution_count": 2,
   "metadata": {},
   "outputs": [],
   "source": [
    "import matplotlib.pyplot as plt\n",
    "import numpy as np\n",
    "import os\n",
    "import cv2\n",
    "import keras\n",
    "import matplotlib.pyplot as plt\n",
    "import numpy as np\n",
    "from keras.models import Sequential\n",
    "from keras.datasets import mnist\n",
    "from keras.models import Sequential\n",
    "from keras.layers import Conv2D, Dropout,BatchNormalization,Activation,ZeroPadding2D,AveragePooling2D,MaxPooling2D,Add,AveragePooling2D,Flatten,Dense,Input\n",
    "from keras.utils import to_categorical\n",
    "from keras.initializers import glorot_uniform,glorot_normal\n",
    "from keras.optimizers import Adadelta\n",
    "from keras import backend as k\n",
    "from keras.engine.input_layer import Input\n",
    "from random import shuffle\n",
    "from keras.models import Model, load_model\n",
    "\n",
    "#Set to mini batch\n",
    "batch_size = 128\n",
    "#the number of classes we want to classify 0 --- 9\n",
    "num_classes =2\n",
    "\n",
    "DATA_DIR = 'PetImages'\n",
    "\n",
    "IMAGE_ROWS, IMAGE_COLUMNS = 100,100\n",
    "\n",
    "input_shape = (IMAGE_ROWS,IMAGE_COLUMNS,1)\n"
   ]
  },
  {
   "cell_type": "code",
   "execution_count": 3,
   "metadata": {},
   "outputs": [],
   "source": [
    "#function to read the data\n",
    "def create_train_data(load_count):\n",
    "    num_of_test = 1000\n",
    "    training_data = []\n",
    "    # to get the labels right\n",
    "    for cl_type in ['Dog','Cat']:\n",
    "        label = [0,0]\n",
    "        if cl_type == 'Dog':\n",
    "            label = [1 ,0]\n",
    "        else :\n",
    "            label = [0 ,1]\n",
    "        image_path = os.path.join(DATA_DIR,cl_type)\n",
    "        #the number of items from each class\n",
    "        num_of_test= load_count\n",
    "        for img in os.listdir(image_path):\n",
    "            if num_of_test  == 0 :\n",
    "                break\n",
    "            path = os.path.join(image_path,img)\n",
    "            image =cv2.imread(path,cv2.IMREAD_GRAYSCALE)\n",
    "            if not image is None:\n",
    "                image_resize = cv2.resize(image,(IMAGE_ROWS, IMAGE_COLUMNS))\n",
    "                training_data.append([np.array(image_resize).astype('float32')/255,np.array(label)])\n",
    "                num_of_test = num_of_test - 1\n",
    "    shuffle(training_data)\n",
    "    \n",
    "    return training_data\n",
    "        \n",
    "        "
   ]
  },
  {
   "cell_type": "code",
   "execution_count": 4,
   "metadata": {},
   "outputs": [],
   "source": [
    "data = create_train_data(25000)"
   ]
  },
  {
   "cell_type": "code",
   "execution_count": 5,
   "metadata": {},
   "outputs": [],
   "source": [
    "train = data[:-3000]\n",
    "test = data[-3000:]"
   ]
  },
  {
   "cell_type": "code",
   "execution_count": 28,
   "metadata": {},
   "outputs": [
    {
     "data": {
      "text/plain": [
       "<matplotlib.image.AxesImage at 0x240ad56c278>"
      ]
     },
     "execution_count": 28,
     "metadata": {},
     "output_type": "execute_result"
    },
    {
     "data": {
      "image/png": "[encoded data removed]",
      "text/plain": [
       "<Figure size 432x288 with 1 Axes>"
      ]
     },
     "metadata": {
      "needs_background": "light"
     },
     "output_type": "display_data"
    }
   ],
   "source": [
    "plt.imshow(train[0][0],cmap='Greys_r')"
   ]
  },
  {
   "cell_type": "code",
   "execution_count": 7,
   "metadata": {},
   "outputs": [
    {
     "name": "stdout",
     "output_type": "stream",
     "text": [
      "The shape of the train data (21946, 100, 100, 1)\n",
      "The shape of the test data (3000, 100, 100, 1)\n"
     ]
    }
   ],
   "source": [
    "x_train = np.array([i[0] for i in train]).reshape(-1,IMAGE_ROWS,IMAGE_COLUMNS,1)\n",
    "y_train = np.array([i[1] for i in train])\n",
    "\n",
    "x_test = np.array([i[0] for i in test]).reshape(-1,IMAGE_ROWS,IMAGE_COLUMNS,1)\n",
    "y_test = np.array([i[1] for i in test])\n",
    "\n",
    "print(\"The shape of the train data \" + str(x_train.shape))\n",
    "print(\"The shape of the test data \" + str(x_test.shape))"
   ]
  },
  {
   "cell_type": "code",
   "execution_count": 8,
   "metadata": {},
   "outputs": [],
   "source": [
    "def convolutional_block(X,f,filters,stage,block,s = 2):\n",
    "\n",
    "    #define the name basis\n",
    "    conv_name_base = \"res\" + str(stage)+block + \"_branch\"\n",
    "    #batch normailization name basis\n",
    "    bn_name_base = \"bn\" + str(stage)+block+ \"_branch\"\n",
    "    #get the filters\n",
    "    f1,f2,f3 = filters\n",
    "    #save the shortcut value\n",
    "    x_shortcut = X\n",
    "    #creat the main path\n",
    "    #create the first layer\n",
    "    X = Conv2D(f1,kernel_size = (1,1),strides = (s,s),name = conv_name_base +'2a',padding= 'valid'\n",
    "               ,kernel_initializer=glorot_normal(seed = 0))(X)\n",
    "    X = BatchNormalization(axis = 3,name = bn_name_base +'2a')(X)\n",
    "    X = Activation('relu')(X)\n",
    "    #create the second layer\n",
    "    X = Conv2D(f2,kernel_size = (f,f),strides = (1,1),name = conv_name_base +'2b',padding= 'same'\n",
    "               ,kernel_initializer=glorot_normal(seed = 0))(X)\n",
    "    X = BatchNormalization(axis = 3,name = bn_name_base +'2b')(X)\n",
    "    X = Activation('relu')(X)\n",
    "    #create the Third layer\n",
    "    X = Conv2D(f3,kernel_size = (1,1),strides = (1,1),name = conv_name_base +'2c',padding= 'valid'\n",
    "               ,kernel_initializer=glorot_normal(seed = 0))(X)\n",
    "    X = BatchNormalization(axis = 3,name = bn_name_base +'2c')(X)\n",
    "    X = Activation('relu')(X)\n",
    "    \n",
    "    #create the shortcut path\n",
    "    #the filter size is the same as the last one so they could match\n",
    "    x_shortcut = Conv2D(f3,kernel_size = (1,1),strides = (s,s),name = conv_name_base +'1',padding= 'valid'\n",
    "               ,kernel_initializer=glorot_normal(seed = 0))(x_shortcut)\n",
    "    x_shortcut = BatchNormalization(axis = 3,name = bn_name_base +'1')(x_shortcut)\n",
    "    \n",
    "    X = Add()([X,x_shortcut])\n",
    "    X = Activation('relu')(X)\n",
    "    \n",
    "    return X"
   ]
  },
  {
   "cell_type": "code",
   "execution_count": 9,
   "metadata": {},
   "outputs": [
    {
     "name": "stdout",
     "output_type": "stream",
     "text": [
      "WARNING:tensorflow:From C:\\Users\\Saria houloubi\\Anaconda3\\lib\\site-packages\\tensorflow\\python\\framework\\op_def_library.py:263: colocate_with (from tensorflow.python.framework.ops) is deprecated and will be removed in a future version.\n",
      "Instructions for updating:\n",
      "Colocations handled automatically by placer.\n"
     ]
    }
   ],
   "source": [
    "\n",
    "model_input = Input(input_shape)\n",
    "\n",
    "\n",
    "X = ZeroPadding2D(padding = (3,3))(model_input)\n",
    "\n",
    "#stage 1\n",
    "X = Conv2D(filters = 32,kernel_size = (7,7),strides= (2,2),name='conv1'\n",
    "               ,kernel_initializer=glorot_uniform(seed=0))(X)\n",
    "X = BatchNormalization(axis = 3,name= 'bn_conv1')(X)\n",
    "X = Activation('relu')(X)\n",
    "X = MaxPooling2D((3,3),strides=(2,2))(X)\n",
    "\n",
    "X = convolutional_block(X = X,f = 3, filters =[32,32,64],stage = 2,block = 'a',s = 2)\n",
    "\n",
    "X = Flatten()(X)\n",
    "\n",
    "X = Dense(num_classes,activation='softmax',name = 'fc' + str(num_classes)\n",
    "              ,kernel_initializer = glorot_uniform(seed = 0))(X)\n",
    "\n",
    "model = Model(inputs = model_input,outputs = X,name ='TestNet')\n"
   ]
  },
  {
   "cell_type": "code",
   "execution_count": 10,
   "metadata": {},
   "outputs": [
    {
     "name": "stdout",
     "output_type": "stream",
     "text": [
      "__________________________________________________________________________________________________\n",
      "Layer (type)                    Output Shape         Param #     Connected to                     \n",
      "==================================================================================================\n",
      "input_1 (InputLayer)            (None, 100, 100, 1)  0                                            \n",
      "__________________________________________________________________________________________________\n",
      "zero_padding2d_1 (ZeroPadding2D (None, 106, 106, 1)  0           input_1[0][0]                    \n",
      "__________________________________________________________________________________________________\n",
      "conv1 (Conv2D)                  (None, 50, 50, 32)   1600        zero_padding2d_1[0][0]           \n",
      "__________________________________________________________________________________________________\n",
      "bn_conv1 (BatchNormalization)   (None, 50, 50, 32)   128         conv1[0][0]                      \n",
      "__________________________________________________________________________________________________\n",
      "activation_1 (Activation)       (None, 50, 50, 32)   0           bn_conv1[0][0]                   \n",
      "__________________________________________________________________________________________________\n",
      "max_pooling2d_1 (MaxPooling2D)  (None, 24, 24, 32)   0           activation_1[0][0]               \n",
      "__________________________________________________________________________________________________\n",
      "res2a_branch2a (Conv2D)         (None, 12, 12, 32)   1056        max_pooling2d_1[0][0]            \n",
      "__________________________________________________________________________________________________\n",
      "bn2a_branch2a (BatchNormalizati (None, 12, 12, 32)   128         res2a_branch2a[0][0]             \n",
      "__________________________________________________________________________________________________\n",
      "activation_2 (Activation)       (None, 12, 12, 32)   0           bn2a_branch2a[0][0]              \n",
      "__________________________________________________________________________________________________\n",
      "res2a_branch2b (Conv2D)         (None, 12, 12, 32)   9248        activation_2[0][0]               \n",
      "__________________________________________________________________________________________________\n",
      "bn2a_branch2b (BatchNormalizati (None, 12, 12, 32)   128         res2a_branch2b[0][0]             \n",
      "__________________________________________________________________________________________________\n",
      "activation_3 (Activation)       (None, 12, 12, 32)   0           bn2a_branch2b[0][0]              \n",
      "__________________________________________________________________________________________________\n",
      "res2a_branch2c (Conv2D)         (None, 12, 12, 64)   2112        activation_3[0][0]               \n",
      "__________________________________________________________________________________________________\n",
      "bn2a_branch2c (BatchNormalizati (None, 12, 12, 64)   256         res2a_branch2c[0][0]             \n",
      "__________________________________________________________________________________________________\n",
      "res2a_branch1 (Conv2D)          (None, 12, 12, 64)   2112        max_pooling2d_1[0][0]            \n",
      "__________________________________________________________________________________________________\n",
      "activation_4 (Activation)       (None, 12, 12, 64)   0           bn2a_branch2c[0][0]              \n",
      "__________________________________________________________________________________________________\n",
      "bn2a_branch1 (BatchNormalizatio (None, 12, 12, 64)   256         res2a_branch1[0][0]              \n",
      "__________________________________________________________________________________________________\n",
      "add_1 (Add)                     (None, 12, 12, 64)   0           activation_4[0][0]               \n",
      "                                                                 bn2a_branch1[0][0]               \n",
      "__________________________________________________________________________________________________\n",
      "activation_5 (Activation)       (None, 12, 12, 64)   0           add_1[0][0]                      \n",
      "__________________________________________________________________________________________________\n",
      "flatten_1 (Flatten)             (None, 9216)         0           activation_5[0][0]               \n",
      "__________________________________________________________________________________________________\n",
      "fc2 (Dense)                     (None, 2)            18434       flatten_1[0][0]                  \n",
      "==================================================================================================\n",
      "Total params: 35,458\n",
      "Trainable params: 35,010\n",
      "Non-trainable params: 448\n",
      "__________________________________________________________________________________________________\n"
     ]
    }
   ],
   "source": [
    "model.summary()"
   ]
  },
  {
   "cell_type": "code",
   "execution_count": 11,
   "metadata": {},
   "outputs": [],
   "source": [
    "#setup the model for training\n",
    "model.compile(loss = 'categorical_crossentropy',\n",
    "              optimizer = Adadelta(),\n",
    "              #We can specify more metrics that we want to monitor\n",
    "              metrics=['accuracy'])\n",
    "\n"
   ]
  },
  {
   "cell_type": "code",
   "execution_count": 12,
   "metadata": {},
   "outputs": [
    {
     "name": "stdout",
     "output_type": "stream",
     "text": [
      "WARNING:tensorflow:From C:\\Users\\Saria houloubi\\Anaconda3\\lib\\site-packages\\tensorflow\\python\\ops\\math_ops.py:3066: to_int32 (from tensorflow.python.ops.math_ops) is deprecated and will be removed in a future version.\n",
      "Instructions for updating:\n",
      "Use tf.cast instead.\n",
      "Train on 21946 samples, validate on 3000 samples\n",
      "Epoch 1/15\n",
      "21946/21946 [==============================] - 87s 4ms/step - loss: 2.6161 - acc: 0.5605 - val_loss: 5.4177 - val_acc: 0.5150\n",
      "Epoch 2/15\n",
      "21946/21946 [==============================] - 84s 4ms/step - loss: 0.9771 - acc: 0.6406 - val_loss: 0.7840 - val_acc: 0.6187\n",
      "Epoch 3/15\n",
      "21946/21946 [==============================] - 82s 4ms/step - loss: 0.6907 - acc: 0.6937 - val_loss: 1.4506 - val_acc: 0.5263\n",
      "Epoch 4/15\n",
      "21946/21946 [==============================] - 81s 4ms/step - loss: 0.5908 - acc: 0.7249 - val_loss: 0.6262 - val_acc: 0.7003\n",
      "Epoch 5/15\n",
      "21946/21946 [==============================] - 81s 4ms/step - loss: 0.5094 - acc: 0.7600 - val_loss: 1.2014 - val_acc: 0.6003\n",
      "Epoch 6/15\n",
      "21946/21946 [==============================] - 81s 4ms/step - loss: 0.4824 - acc: 0.7758 - val_loss: 1.5475 - val_acc: 0.5633\n",
      "Epoch 7/15\n",
      "21946/21946 [==============================] - 81s 4ms/step - loss: 0.4427 - acc: 0.7971 - val_loss: 0.5570 - val_acc: 0.7347\n",
      "Epoch 8/15\n",
      "21946/21946 [==============================] - 81s 4ms/step - loss: 0.4192 - acc: 0.8077 - val_loss: 0.6896 - val_acc: 0.6903\n",
      "Epoch 9/15\n",
      "21946/21946 [==============================] - 81s 4ms/step - loss: 0.3749 - acc: 0.8350 - val_loss: 0.4939 - val_acc: 0.7780\n",
      "Epoch 10/15\n",
      "21946/21946 [==============================] - 80s 4ms/step - loss: 0.3468 - acc: 0.8449 - val_loss: 0.6900 - val_acc: 0.7113\n",
      "Epoch 11/15\n",
      "21946/21946 [==============================] - 80s 4ms/step - loss: 0.3235 - acc: 0.8613 - val_loss: 0.7732 - val_acc: 0.6563\n",
      "Epoch 12/15\n",
      "21946/21946 [==============================] - 80s 4ms/step - loss: 0.3010 - acc: 0.8700 - val_loss: 0.5876 - val_acc: 0.7310\n",
      "Epoch 13/15\n",
      "21946/21946 [==============================] - 80s 4ms/step - loss: 0.2805 - acc: 0.8797 - val_loss: 0.5680 - val_acc: 0.7640\n",
      "Epoch 14/15\n",
      "21946/21946 [==============================] - 80s 4ms/step - loss: 0.2543 - acc: 0.8940 - val_loss: 1.3492 - val_acc: 0.6657\n",
      "Epoch 15/15\n",
      "21946/21946 [==============================] - 80s 4ms/step - loss: 0.2269 - acc: 0.9041 - val_loss: 0.9277 - val_acc: 0.7047\n"
     ]
    },
    {
     "data": {
      "text/plain": [
       "<keras.callbacks.History at 0x2408ee63c88>"
      ]
     },
     "execution_count": 12,
     "metadata": {},
     "output_type": "execute_result"
    }
   ],
   "source": [
    "#train the model\n",
    "model.fit(x = x_train,y = y_train,\n",
    "          batch_size = batch_size,\n",
    "          epochs = 15,\n",
    "        #this will show is a progress bar put it to 0 so it can remain silent\n",
    "          verbose =1,\n",
    "          validation_data = (x_test,y_test))"
   ]
  },
  {
   "cell_type": "code",
   "execution_count": 13,
   "metadata": {},
   "outputs": [
    {
     "name": "stdout",
     "output_type": "stream",
     "text": [
      "3000/3000 [==============================] - 4s 1ms/step\n"
     ]
    }
   ],
   "source": [
    "#evaluate the model\n",
    "#for more information run model.metrices_names == > ['loss' , 'acc']\n",
    "scores = model.evaluate(x = x_test,y=y_test,batch_size = 32,verbose = 1)"
   ]
  },
  {
   "cell_type": "code",
   "execution_count": 27,
   "metadata": {},
   "outputs": [
    {
     "name": "stdout",
     "output_type": "stream",
     "text": [
      "The accuracy :\n"
     ]
    },
    {
     "data": {
      "text/plain": [
       "0.7046666665077209"
      ]
     },
     "execution_count": 27,
     "metadata": {},
     "output_type": "execute_result"
    }
   ],
   "source": [
    "print(\"The accuracy :\")\n",
    "scores[1]"
   ]
  },
  {
   "cell_type": "code",
   "execution_count": null,
   "metadata": {},
   "outputs": [],
   "source": []
  }
 ],
 "metadata": {
  "kernelspec": {
   "display_name": "Python 3",
   "language": "python",
   "name": "python3"
  },
  "language_info": {
   "codemirror_mode": {
    "name": "ipython",
    "version": 3
   },
   "file_extension": ".py",
   "mimetype": "text/x-python",
   "name": "python",
   "nbconvert_exporter": "python",
   "pygments_lexer": "ipython3",
   "version": "3.7.3"
  }
 },
 "nbformat": 4,
 "nbformat_minor": 2
}
